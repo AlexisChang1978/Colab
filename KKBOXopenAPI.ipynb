{
  "nbformat": 4,
  "nbformat_minor": 0,
  "metadata": {
    "colab": {
      "provenance": [],
      "toc_visible": true,
      "authorship_tag": "ABX9TyPSaQRxqxtSkhaU6TvhEZ0n",
      "include_colab_link": true
    },
    "kernelspec": {
      "name": "python3",
      "display_name": "Python 3"
    },
    "language_info": {
      "name": "python"
    }
  },
  "cells": [
    {
      "cell_type": "markdown",
      "metadata": {
        "id": "view-in-github",
        "colab_type": "text"
      },
      "source": [
        "<a href=\"https://colab.research.google.com/github/AlexisChang1978/Colab/blob/main/KKBOXopenAPI.ipynb\" target=\"_parent\"><img src=\"https://colab.research.google.com/assets/colab-badge.svg\" alt=\"Open In Colab\"/></a>"
      ]
    },
    {
      "cell_type": "markdown",
      "source": [
        "取憑證"
      ],
      "metadata": {
        "id": "EKtHxovN37yn"
      }
    },
    {
      "cell_type": "code",
      "execution_count": 70,
      "metadata": {
        "id": "nVU4EvPpgR1K"
      },
      "outputs": [],
      "source": [
        "import requests\n",
        "\n",
        "# 取得Token\n",
        "def get_access_token():\n",
        "    #API網址    \n",
        "    url = \"https://account.kkbox.com/oauth2/token\" \n",
        "    \n",
        "    #標頭\n",
        "    headers = {\n",
        "        \"Content-Type\": \"application/x-www-form-urlencoded\",\n",
        "        \"Host\": \"account.kkbox.com\"\n",
        "    }\n",
        "    #參數\n",
        "    data = {\n",
        "        \"grant_type\": \"client_credentials\",\n",
        "        \"client_id\": \"8fee03089f662646aaa427c9b353d429\",\n",
        "        \"client_secret\": \"fd82230cce5fbfa820e24c1b42b585c7\"\n",
        "    }\n",
        "    access_token = requests.post(url, headers=headers, data=data)\n",
        "    return access_token.json()[\"access_token\"]\n"
      ]
    },
    {
      "cell_type": "code",
      "source": [
        "import requests\n",
        "\n",
        "access_token = get_access_token()\n",
        "limit = 50  # 每頁回傳的結果數量\n",
        "\n",
        "# 讓使用者輸入歌手名和歌曲名\n",
        "artist_name = input(\"請輸入歌手名：\")\n",
        "track_name = input(\"請輸入歌曲名：\")\n",
        "\n",
        "offset = 0\n",
        "total_tracks = 0\n",
        "\n",
        "while True:\n",
        "    url = f'https://api.kkbox.com/v1.1/search?q={artist_name} {track_name}&type=track&territory=TW&limit=50&offset={offset}'\n",
        "\n",
        "    headers = {\n",
        "    'Authorization': 'Bearer ' + access_token,\n",
        "    }\n",
        "    response = requests.get(url, headers=headers)\n",
        "    data = response.json()\n",
        "\n",
        "    if response.status_code == 200:\n",
        "        # 處理成功回應\n",
        "        tracks = data['tracks']['data']\n",
        "        if len(tracks) > 0:\n",
        "            total_tracks += len(tracks)\n",
        "            for track in tracks:\n",
        "                artist = track['album']['artist']['name']\n",
        "                track_name = track['name']\n",
        "                track_id = track['id']\n",
        "                # 生成歌曲URL\n",
        "                track_url = f'https://www.kkbox.com/tw/tc/song/{track_id}'\n",
        "                #print(f'歌手名：{artist}')\n",
        "                #print(f'歌曲名：{track_name}')\n",
        "                print(f'歌曲ID：{track_id}')\n",
        "                #print(f'歌曲URL：{track_url}')\n",
        "                #print('---')\n",
        "        else:\n",
        "            print('找不到符合搜尋條件的歌曲')\n",
        "            break\n",
        "    else:\n",
        "        # 處理錯誤回應\n",
        "        error_message = data['error']['message']\n",
        "        print(f'Error: {error_message}')\n",
        "        break\n",
        "\n",
        "    # 更新 offset，以取得下一頁的結果\n",
        "    offset += limit\n",
        "\n",
        "    # 檢查是否已獲取所有結果\n",
        "    if total_tracks >= data['summary']['total']:\n",
        "        break"
      ],
      "metadata": {
        "id": "30wE1AsfY8CG"
      },
      "execution_count": null,
      "outputs": []
    }
  ]
}